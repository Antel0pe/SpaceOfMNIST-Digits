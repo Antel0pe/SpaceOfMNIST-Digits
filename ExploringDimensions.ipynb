{
  "nbformat": 4,
  "nbformat_minor": 0,
  "metadata": {
    "colab": {
      "provenance": []
    },
    "kernelspec": {
      "name": "python3",
      "display_name": "Python 3"
    },
    "language_info": {
      "name": "python"
    }
  },
  "cells": [
    {
      "cell_type": "code",
      "execution_count": 1,
      "metadata": {
        "colab": {
          "base_uri": "https://localhost:8080/"
        },
        "id": "ORY4qLW-9fgu",
        "outputId": "24b1b5fb-5a8f-43d8-ede6-e375d6271888"
      },
      "outputs": [
        {
          "output_type": "stream",
          "name": "stdout",
          "text": [
            "  Preparing metadata (setup.py) ... \u001b[?25l\u001b[?25hdone\n",
            "\u001b[2K   \u001b[90m━━━━━━━━━━━━━━━━━━━━━━━━━━━━━━━━━━━━━━━━\u001b[0m \u001b[32m3.1/3.1 MB\u001b[0m \u001b[31m22.0 MB/s\u001b[0m eta \u001b[36m0:00:00\u001b[0m\n",
            "\u001b[2K   \u001b[90m━━━━━━━━━━━━━━━━━━━━━━━━━━━━━━━━━━━━━━━━\u001b[0m \u001b[32m841.3/841.3 kB\u001b[0m \u001b[31m11.9 MB/s\u001b[0m eta \u001b[36m0:00:00\u001b[0m\n",
            "\u001b[2K   \u001b[90m━━━━━━━━━━━━━━━━━━━━━━━━━━━━━━━━━━━━━━━━\u001b[0m \u001b[32m48.6/48.6 kB\u001b[0m \u001b[31m2.8 MB/s\u001b[0m eta \u001b[36m0:00:00\u001b[0m\n",
            "\u001b[?25h  Building wheel for hopcroftkarp (setup.py) ... \u001b[?25l\u001b[?25hdone\n"
          ]
        }
      ],
      "source": [
        "!pip install -q python-igraph scikit-learn ripser persim"
      ]
    },
    {
      "cell_type": "code",
      "source": [
        "import torch\n",
        "from torch.utils.data import Subset\n",
        "import torchvision\n",
        "from torchvision import transforms\n",
        "import matplotlib.pyplot as plt\n",
        "\n",
        "# Define the transformation pipeline:\n",
        "transform = transforms.Compose([\n",
        "    transforms.ToTensor(),\n",
        "    transforms.Lambda(lambda x: (x > 0.5).float()),  # Binarize the image\n",
        "    transforms.Lambda(lambda x: x.view(-1))           # Flatten into a 784-dim vector\n",
        "])\n",
        "\n",
        "# Load the training set (set download=True if running for the first time)\n",
        "mnist_train = torchvision.datasets.MNIST(root='./data', train=True, download=True, transform=transform)\n",
        "\n",
        "# Get indices for images where the label is 1\n",
        "indices = (mnist_train.targets == 1).nonzero().squeeze()\n",
        "\n",
        "# Create a subset containing only the '1's\n",
        "mnist_train_ones = Subset(mnist_train, indices)\n",
        "\n",
        "print(f\"Total number of '1' images in the training set: {len(mnist_train_ones)}\")\n",
        "\n",
        "# Stack all 784-dim vectors from the filtered dataset\n",
        "all_vectors = torch.stack([img for img, _ in mnist_train_ones])\n",
        "unique_vectors = torch.unique(all_vectors, dim=0)\n",
        "\n",
        "print(f\"Total images in mnist_train_ones: {all_vectors.shape[0]}\")\n",
        "print(f\"Unique images: {unique_vectors.shape[0]}\")\n",
        "\n",
        "if all_vectors.shape[0] == unique_vectors.shape[0]:\n",
        "    print(\"All 784-dimensional vectors are unique.\")\n",
        "else:\n",
        "    print(\"There are duplicates in the 784-dimensional vectors.\")\n",
        "\n"
      ],
      "metadata": {
        "colab": {
          "base_uri": "https://localhost:8080/"
        },
        "id": "1fQjbucP9lY9",
        "outputId": "c24624ad-0640-4bcc-e4ff-eea656fea07b"
      },
      "execution_count": 2,
      "outputs": [
        {
          "output_type": "stream",
          "name": "stderr",
          "text": [
            "100%|██████████| 9.91M/9.91M [00:00<00:00, 17.7MB/s]\n",
            "100%|██████████| 28.9k/28.9k [00:00<00:00, 535kB/s]\n",
            "100%|██████████| 1.65M/1.65M [00:00<00:00, 4.09MB/s]\n",
            "100%|██████████| 4.54k/4.54k [00:00<00:00, 5.41MB/s]\n"
          ]
        },
        {
          "output_type": "stream",
          "name": "stdout",
          "text": [
            "Total number of '1' images in the training set: 6742\n",
            "Total images in mnist_train_ones: 6742\n",
            "Unique images: 6726\n",
            "There are duplicates in the 784-dimensional vectors.\n"
          ]
        }
      ]
    },
    {
      "cell_type": "code",
      "source": [
        "import numpy as np\n",
        "from sklearn.neighbors import NearestNeighbors\n",
        "import igraph as ig\n",
        "\n",
        "def visualize_k_nearest_neighbors_graph(unique_vectors, k):\n",
        "    \"\"\"\n",
        "    Builds an unweighted graph with python-igraph where each unique vector is a node.\n",
        "    Each node is connected to its k nearest neighbors (excluding itself).\n",
        "\n",
        "    Args:\n",
        "        unique_vectors (torch.Tensor or np.array): Array/tensor of shape (n, d) containing feature vectors.\n",
        "        k (int): Number of nearest neighbors for each node.\n",
        "\n",
        "    Returns:\n",
        "        g (igraph.Graph): The constructed unweighted graph.\n",
        "    \"\"\"\n",
        "    # Convert tensor to numpy array if necessary.\n",
        "    if hasattr(unique_vectors, 'numpy'):\n",
        "        X = unique_vectors.numpy()\n",
        "    else:\n",
        "        X = unique_vectors\n",
        "\n",
        "    n = X.shape[0]\n",
        "    print(f\"Building unweighted k-NN graph for {n} nodes...\")\n",
        "\n",
        "    # Find k nearest neighbors for each node. Note: The first neighbor is the point itself.\n",
        "    nbrs = NearestNeighbors(n_neighbors=k+1, algorithm='auto').fit(X)\n",
        "    distances, indices = nbrs.kneighbors(X)\n",
        "\n",
        "    edge_list = []\n",
        "    for i, neigh in enumerate(indices):\n",
        "        # Skip the first neighbor (self) and add undirected edges only once.\n",
        "        for j in neigh[1:]:\n",
        "            if i < j:\n",
        "                edge_list.append((i, j))\n",
        "\n",
        "    # Create an undirected graph.\n",
        "    g = ig.Graph(n=n, edges=edge_list, directed=False)\n",
        "    print(f\"Unweighted k-NN graph built with {len(edge_list)} edges.\")\n",
        "    return g\n",
        "\n",
        "g = visualize_k_nearest_neighbors_graph(unique_vectors, 5)\n"
      ],
      "metadata": {
        "colab": {
          "base_uri": "https://localhost:8080/"
        },
        "id": "bv0SqvgmCfLz",
        "outputId": "9a1ee534-4249-4eb6-9d0c-3d8be0b86999"
      },
      "execution_count": 3,
      "outputs": [
        {
          "output_type": "stream",
          "name": "stdout",
          "text": [
            "Building unweighted k-NN graph for 6726 nodes...\n",
            "Unweighted k-NN graph built with 15285 edges.\n"
          ]
        }
      ]
    },
    {
      "cell_type": "code",
      "source": [
        "def build_filtered_knn_graph(unique_vectors, k, max_distance=6.0):\n",
        "    if hasattr(unique_vectors, 'numpy'):\n",
        "        X = unique_vectors.numpy()\n",
        "    else:\n",
        "        X = unique_vectors\n",
        "\n",
        "    n = X.shape[0]\n",
        "    print(f\"Building filtered k-NN graph for {n} nodes with edge dist ≤ {max_distance}...\")\n",
        "\n",
        "    nbrs = NearestNeighbors(n_neighbors=k+1).fit(X)\n",
        "    distances, indices = nbrs.kneighbors(X)\n",
        "\n",
        "    edge_list = []\n",
        "    for i, (neighbors, dists) in enumerate(zip(indices, distances)):\n",
        "        for j, dist in zip(neighbors[1:], dists[1:]):  # skip self (index 0)\n",
        "            if dist <= max_distance and i < j:\n",
        "                edge_list.append((i, j))\n",
        "\n",
        "    g = ig.Graph(n=n, edges=edge_list, directed=False)\n",
        "    print(f\"Filtered k-NN graph built with {len(edge_list)} edges.\")\n",
        "    return g\n",
        "\n",
        "threshold = 6\n",
        "g_thresh = build_filtered_knn_graph(unique_vectors, k=5, max_distance=threshold)\n"
      ],
      "metadata": {
        "colab": {
          "base_uri": "https://localhost:8080/"
        },
        "id": "j47a47ePErlU",
        "outputId": "43962f02-f92e-4830-bd0c-b7948da35049"
      },
      "execution_count": 4,
      "outputs": [
        {
          "output_type": "stream",
          "name": "stdout",
          "text": [
            "Building filtered k-NN graph for 6726 nodes with edge dist ≤ 6...\n",
            "Filtered k-NN graph built with 15068 edges.\n"
          ]
        }
      ]
    },
    {
      "cell_type": "code",
      "source": [
        "components = g_thresh.clusters()\n",
        "largest_component_index = components.sizes().index(max(components.sizes()))\n",
        "g_largest = g_thresh.subgraph(components[largest_component_index])\n",
        "mapping = components[largest_component_index]  # Maps subgraph idx → original idx\n",
        "print(f\"Largest component: {g_largest.vcount()} nodes, {g_largest.ecount()} edges.\")\n"
      ],
      "metadata": {
        "colab": {
          "base_uri": "https://localhost:8080/"
        },
        "id": "spIyTRgPC-_b",
        "outputId": "6517216f-4aab-4b88-bab2-d8b18f353e74"
      },
      "execution_count": 5,
      "outputs": [
        {
          "output_type": "stream",
          "name": "stdout",
          "text": [
            "Largest component: 6372 nodes, 15015 edges.\n"
          ]
        },
        {
          "output_type": "stream",
          "name": "stderr",
          "text": [
            "<ipython-input-5-1dcb5f0051b5>:1: DeprecationWarning: Graph.clusters() is deprecated; use Graph.connected_components() instead\n",
            "  components = g_thresh.clusters()\n"
          ]
        }
      ]
    },
    {
      "cell_type": "code",
      "source": [
        "dist_matrix = g_largest.shortest_paths()\n",
        "dist_matrix = np.array(dist_matrix)\n",
        "max_dist = np.max(dist_matrix)\n",
        "i, j = np.unravel_index(np.argmax(dist_matrix), dist_matrix.shape)\n",
        "print(f\"Furthest nodes: {i} and {j} with shortest path length {max_dist}\")\n"
      ],
      "metadata": {
        "colab": {
          "base_uri": "https://localhost:8080/"
        },
        "id": "Pki4sV6nDAwK",
        "outputId": "8e2d0bf3-47a3-409b-cb7b-bce4dedb47eb"
      },
      "execution_count": 6,
      "outputs": [
        {
          "output_type": "stream",
          "name": "stderr",
          "text": [
            "<ipython-input-6-9fed582e627f>:1: DeprecationWarning: Graph.shortest_paths() is deprecated; use Graph.distances() instead\n",
            "  dist_matrix = g_largest.shortest_paths()\n"
          ]
        },
        {
          "output_type": "stream",
          "name": "stdout",
          "text": [
            "Furthest nodes: 0 and 6339 with shortest path length 38\n"
          ]
        }
      ]
    },
    {
      "cell_type": "code",
      "source": [
        "# Get the shortest path (as list of node indices)\n",
        "path = g_largest.get_shortest_paths(i, to=j, output='vpath')[0]\n",
        "\n",
        "# Reuse original vectors for distance calculation\n",
        "vectors_np = unique_vectors.numpy()\n",
        "path_distances = []\n",
        "\n",
        "for idx in range(len(path) - 1):\n",
        "    u, v = path[idx], path[idx + 1]\n",
        "    vec_u = vectors_np[mapping[u]]\n",
        "    vec_v = vectors_np[mapping[v]]\n",
        "    dist = np.linalg.norm(vec_u - vec_v)\n",
        "    path_distances.append(dist)\n",
        "    print(f\"Edge {u} -> {v} | L2 distance: {dist:.4f}\")\n",
        "\n",
        "total_path_distance = sum(path_distances)\n",
        "print(f\"\\nTotal L2 distance along path: {total_path_distance:.4f}\")\n"
      ],
      "metadata": {
        "colab": {
          "base_uri": "https://localhost:8080/"
        },
        "id": "EZXgWgi0DGEQ",
        "outputId": "aa6d543d-2b04-41f4-a8c7-dcea5bcff3c9"
      },
      "execution_count": 7,
      "outputs": [
        {
          "output_type": "stream",
          "name": "stdout",
          "text": [
            "Edge 0 -> 1 | L2 distance: 5.9161\n",
            "Edge 1 -> 116 | L2 distance: 4.8990\n",
            "Edge 116 -> 108 | L2 distance: 4.5826\n",
            "Edge 108 -> 2304 | L2 distance: 4.7958\n",
            "Edge 2304 -> 2384 | L2 distance: 4.2426\n",
            "Edge 2384 -> 125 | L2 distance: 4.3589\n",
            "Edge 125 -> 26 | L2 distance: 5.3852\n",
            "Edge 26 -> 364 | L2 distance: 5.2915\n",
            "Edge 364 -> 2664 | L2 distance: 4.8990\n",
            "Edge 2664 -> 2806 | L2 distance: 5.0000\n",
            "Edge 2806 -> 557 | L2 distance: 4.6904\n",
            "Edge 557 -> 849 | L2 distance: 4.5826\n",
            "Edge 849 -> 842 | L2 distance: 4.3589\n",
            "Edge 842 -> 1199 | L2 distance: 4.3589\n",
            "Edge 1199 -> 1182 | L2 distance: 3.7417\n",
            "Edge 1182 -> 1109 | L2 distance: 3.6056\n",
            "Edge 1109 -> 1103 | L2 distance: 3.7417\n",
            "Edge 1103 -> 1549 | L2 distance: 3.7417\n",
            "Edge 1549 -> 1472 | L2 distance: 4.3589\n",
            "Edge 1472 -> 1833 | L2 distance: 4.1231\n",
            "Edge 1833 -> 2208 | L2 distance: 3.7417\n",
            "Edge 2208 -> 2197 | L2 distance: 3.7417\n",
            "Edge 2197 -> 5690 | L2 distance: 3.8730\n",
            "Edge 5690 -> 6186 | L2 distance: 2.4495\n",
            "Edge 6186 -> 5691 | L2 distance: 3.6056\n",
            "Edge 5691 -> 6142 | L2 distance: 3.0000\n",
            "Edge 6142 -> 6102 | L2 distance: 3.1623\n",
            "Edge 6102 -> 6084 | L2 distance: 3.1623\n",
            "Edge 6084 -> 6100 | L2 distance: 2.8284\n",
            "Edge 6100 -> 6164 | L2 distance: 3.0000\n",
            "Edge 6164 -> 6146 | L2 distance: 4.3589\n",
            "Edge 6146 -> 6254 | L2 distance: 3.8730\n",
            "Edge 6254 -> 6252 | L2 distance: 3.7417\n",
            "Edge 6252 -> 6309 | L2 distance: 4.2426\n",
            "Edge 6309 -> 6331 | L2 distance: 3.7417\n",
            "Edge 6331 -> 2295 | L2 distance: 5.3852\n",
            "Edge 2295 -> 6330 | L2 distance: 5.3852\n",
            "Edge 6330 -> 6339 | L2 distance: 4.5826\n",
            "\n",
            "Total L2 distance along path: 158.5491\n"
          ]
        }
      ]
    },
    {
      "cell_type": "code",
      "source": [
        "for idx in range(len(path) - 1):\n",
        "    u, v = path[idx], path[idx + 1]\n",
        "    vec_u = vectors_np[u]\n",
        "    vec_v = vectors_np[v]\n",
        "    direction = vec_v - vec_u\n",
        "\n",
        "    print(f\"\\nEdge {u} -> {v}:\")\n",
        "    print(\"l(t) = u + t * (v - u), where t ∈ [0, 1]\")\n",
        "    print(f\"u (start): {vec_u[:5]} ...\")  # print only first 5 dims\n",
        "    print(f\"v (end):   {vec_v[:5]} ...\")\n",
        "    print(f\"v - u:     {direction[:5]} ...\")\n"
      ],
      "metadata": {
        "colab": {
          "base_uri": "https://localhost:8080/"
        },
        "id": "ruVc-wZIDjk7",
        "outputId": "59b7a0a3-f5cf-4e99-8818-44c7b8108f24"
      },
      "execution_count": 8,
      "outputs": [
        {
          "output_type": "stream",
          "name": "stdout",
          "text": [
            "\n",
            "Edge 0 -> 1:\n",
            "l(t) = u + t * (v - u), where t ∈ [0, 1]\n",
            "u (start): [0. 0. 0. 0. 0.] ...\n",
            "v (end):   [0. 0. 0. 0. 0.] ...\n",
            "v - u:     [0. 0. 0. 0. 0.] ...\n",
            "\n",
            "Edge 1 -> 116:\n",
            "l(t) = u + t * (v - u), where t ∈ [0, 1]\n",
            "u (start): [0. 0. 0. 0. 0.] ...\n",
            "v (end):   [0. 0. 0. 0. 0.] ...\n",
            "v - u:     [0. 0. 0. 0. 0.] ...\n",
            "\n",
            "Edge 116 -> 108:\n",
            "l(t) = u + t * (v - u), where t ∈ [0, 1]\n",
            "u (start): [0. 0. 0. 0. 0.] ...\n",
            "v (end):   [0. 0. 0. 0. 0.] ...\n",
            "v - u:     [0. 0. 0. 0. 0.] ...\n",
            "\n",
            "Edge 108 -> 2304:\n",
            "l(t) = u + t * (v - u), where t ∈ [0, 1]\n",
            "u (start): [0. 0. 0. 0. 0.] ...\n",
            "v (end):   [0. 0. 0. 0. 0.] ...\n",
            "v - u:     [0. 0. 0. 0. 0.] ...\n",
            "\n",
            "Edge 2304 -> 2384:\n",
            "l(t) = u + t * (v - u), where t ∈ [0, 1]\n",
            "u (start): [0. 0. 0. 0. 0.] ...\n",
            "v (end):   [0. 0. 0. 0. 0.] ...\n",
            "v - u:     [0. 0. 0. 0. 0.] ...\n",
            "\n",
            "Edge 2384 -> 125:\n",
            "l(t) = u + t * (v - u), where t ∈ [0, 1]\n",
            "u (start): [0. 0. 0. 0. 0.] ...\n",
            "v (end):   [0. 0. 0. 0. 0.] ...\n",
            "v - u:     [0. 0. 0. 0. 0.] ...\n",
            "\n",
            "Edge 125 -> 26:\n",
            "l(t) = u + t * (v - u), where t ∈ [0, 1]\n",
            "u (start): [0. 0. 0. 0. 0.] ...\n",
            "v (end):   [0. 0. 0. 0. 0.] ...\n",
            "v - u:     [0. 0. 0. 0. 0.] ...\n",
            "\n",
            "Edge 26 -> 364:\n",
            "l(t) = u + t * (v - u), where t ∈ [0, 1]\n",
            "u (start): [0. 0. 0. 0. 0.] ...\n",
            "v (end):   [0. 0. 0. 0. 0.] ...\n",
            "v - u:     [0. 0. 0. 0. 0.] ...\n",
            "\n",
            "Edge 364 -> 2664:\n",
            "l(t) = u + t * (v - u), where t ∈ [0, 1]\n",
            "u (start): [0. 0. 0. 0. 0.] ...\n",
            "v (end):   [0. 0. 0. 0. 0.] ...\n",
            "v - u:     [0. 0. 0. 0. 0.] ...\n",
            "\n",
            "Edge 2664 -> 2806:\n",
            "l(t) = u + t * (v - u), where t ∈ [0, 1]\n",
            "u (start): [0. 0. 0. 0. 0.] ...\n",
            "v (end):   [0. 0. 0. 0. 0.] ...\n",
            "v - u:     [0. 0. 0. 0. 0.] ...\n",
            "\n",
            "Edge 2806 -> 557:\n",
            "l(t) = u + t * (v - u), where t ∈ [0, 1]\n",
            "u (start): [0. 0. 0. 0. 0.] ...\n",
            "v (end):   [0. 0. 0. 0. 0.] ...\n",
            "v - u:     [0. 0. 0. 0. 0.] ...\n",
            "\n",
            "Edge 557 -> 849:\n",
            "l(t) = u + t * (v - u), where t ∈ [0, 1]\n",
            "u (start): [0. 0. 0. 0. 0.] ...\n",
            "v (end):   [0. 0. 0. 0. 0.] ...\n",
            "v - u:     [0. 0. 0. 0. 0.] ...\n",
            "\n",
            "Edge 849 -> 842:\n",
            "l(t) = u + t * (v - u), where t ∈ [0, 1]\n",
            "u (start): [0. 0. 0. 0. 0.] ...\n",
            "v (end):   [0. 0. 0. 0. 0.] ...\n",
            "v - u:     [0. 0. 0. 0. 0.] ...\n",
            "\n",
            "Edge 842 -> 1199:\n",
            "l(t) = u + t * (v - u), where t ∈ [0, 1]\n",
            "u (start): [0. 0. 0. 0. 0.] ...\n",
            "v (end):   [0. 0. 0. 0. 0.] ...\n",
            "v - u:     [0. 0. 0. 0. 0.] ...\n",
            "\n",
            "Edge 1199 -> 1182:\n",
            "l(t) = u + t * (v - u), where t ∈ [0, 1]\n",
            "u (start): [0. 0. 0. 0. 0.] ...\n",
            "v (end):   [0. 0. 0. 0. 0.] ...\n",
            "v - u:     [0. 0. 0. 0. 0.] ...\n",
            "\n",
            "Edge 1182 -> 1109:\n",
            "l(t) = u + t * (v - u), where t ∈ [0, 1]\n",
            "u (start): [0. 0. 0. 0. 0.] ...\n",
            "v (end):   [0. 0. 0. 0. 0.] ...\n",
            "v - u:     [0. 0. 0. 0. 0.] ...\n",
            "\n",
            "Edge 1109 -> 1103:\n",
            "l(t) = u + t * (v - u), where t ∈ [0, 1]\n",
            "u (start): [0. 0. 0. 0. 0.] ...\n",
            "v (end):   [0. 0. 0. 0. 0.] ...\n",
            "v - u:     [0. 0. 0. 0. 0.] ...\n",
            "\n",
            "Edge 1103 -> 1549:\n",
            "l(t) = u + t * (v - u), where t ∈ [0, 1]\n",
            "u (start): [0. 0. 0. 0. 0.] ...\n",
            "v (end):   [0. 0. 0. 0. 0.] ...\n",
            "v - u:     [0. 0. 0. 0. 0.] ...\n",
            "\n",
            "Edge 1549 -> 1472:\n",
            "l(t) = u + t * (v - u), where t ∈ [0, 1]\n",
            "u (start): [0. 0. 0. 0. 0.] ...\n",
            "v (end):   [0. 0. 0. 0. 0.] ...\n",
            "v - u:     [0. 0. 0. 0. 0.] ...\n",
            "\n",
            "Edge 1472 -> 1833:\n",
            "l(t) = u + t * (v - u), where t ∈ [0, 1]\n",
            "u (start): [0. 0. 0. 0. 0.] ...\n",
            "v (end):   [0. 0. 0. 0. 0.] ...\n",
            "v - u:     [0. 0. 0. 0. 0.] ...\n",
            "\n",
            "Edge 1833 -> 2208:\n",
            "l(t) = u + t * (v - u), where t ∈ [0, 1]\n",
            "u (start): [0. 0. 0. 0. 0.] ...\n",
            "v (end):   [0. 0. 0. 0. 0.] ...\n",
            "v - u:     [0. 0. 0. 0. 0.] ...\n",
            "\n",
            "Edge 2208 -> 2197:\n",
            "l(t) = u + t * (v - u), where t ∈ [0, 1]\n",
            "u (start): [0. 0. 0. 0. 0.] ...\n",
            "v (end):   [0. 0. 0. 0. 0.] ...\n",
            "v - u:     [0. 0. 0. 0. 0.] ...\n",
            "\n",
            "Edge 2197 -> 5690:\n",
            "l(t) = u + t * (v - u), where t ∈ [0, 1]\n",
            "u (start): [0. 0. 0. 0. 0.] ...\n",
            "v (end):   [0. 0. 0. 0. 0.] ...\n",
            "v - u:     [0. 0. 0. 0. 0.] ...\n",
            "\n",
            "Edge 5690 -> 6186:\n",
            "l(t) = u + t * (v - u), where t ∈ [0, 1]\n",
            "u (start): [0. 0. 0. 0. 0.] ...\n",
            "v (end):   [0. 0. 0. 0. 0.] ...\n",
            "v - u:     [0. 0. 0. 0. 0.] ...\n",
            "\n",
            "Edge 6186 -> 5691:\n",
            "l(t) = u + t * (v - u), where t ∈ [0, 1]\n",
            "u (start): [0. 0. 0. 0. 0.] ...\n",
            "v (end):   [0. 0. 0. 0. 0.] ...\n",
            "v - u:     [0. 0. 0. 0. 0.] ...\n",
            "\n",
            "Edge 5691 -> 6142:\n",
            "l(t) = u + t * (v - u), where t ∈ [0, 1]\n",
            "u (start): [0. 0. 0. 0. 0.] ...\n",
            "v (end):   [0. 0. 0. 0. 0.] ...\n",
            "v - u:     [0. 0. 0. 0. 0.] ...\n",
            "\n",
            "Edge 6142 -> 6102:\n",
            "l(t) = u + t * (v - u), where t ∈ [0, 1]\n",
            "u (start): [0. 0. 0. 0. 0.] ...\n",
            "v (end):   [0. 0. 0. 0. 0.] ...\n",
            "v - u:     [0. 0. 0. 0. 0.] ...\n",
            "\n",
            "Edge 6102 -> 6084:\n",
            "l(t) = u + t * (v - u), where t ∈ [0, 1]\n",
            "u (start): [0. 0. 0. 0. 0.] ...\n",
            "v (end):   [0. 0. 0. 0. 0.] ...\n",
            "v - u:     [0. 0. 0. 0. 0.] ...\n",
            "\n",
            "Edge 6084 -> 6100:\n",
            "l(t) = u + t * (v - u), where t ∈ [0, 1]\n",
            "u (start): [0. 0. 0. 0. 0.] ...\n",
            "v (end):   [0. 0. 0. 0. 0.] ...\n",
            "v - u:     [0. 0. 0. 0. 0.] ...\n",
            "\n",
            "Edge 6100 -> 6164:\n",
            "l(t) = u + t * (v - u), where t ∈ [0, 1]\n",
            "u (start): [0. 0. 0. 0. 0.] ...\n",
            "v (end):   [0. 0. 0. 0. 0.] ...\n",
            "v - u:     [0. 0. 0. 0. 0.] ...\n",
            "\n",
            "Edge 6164 -> 6146:\n",
            "l(t) = u + t * (v - u), where t ∈ [0, 1]\n",
            "u (start): [0. 0. 0. 0. 0.] ...\n",
            "v (end):   [0. 0. 0. 0. 0.] ...\n",
            "v - u:     [0. 0. 0. 0. 0.] ...\n",
            "\n",
            "Edge 6146 -> 6254:\n",
            "l(t) = u + t * (v - u), where t ∈ [0, 1]\n",
            "u (start): [0. 0. 0. 0. 0.] ...\n",
            "v (end):   [0. 0. 0. 0. 0.] ...\n",
            "v - u:     [0. 0. 0. 0. 0.] ...\n",
            "\n",
            "Edge 6254 -> 6252:\n",
            "l(t) = u + t * (v - u), where t ∈ [0, 1]\n",
            "u (start): [0. 0. 0. 0. 0.] ...\n",
            "v (end):   [0. 0. 0. 0. 0.] ...\n",
            "v - u:     [0. 0. 0. 0. 0.] ...\n",
            "\n",
            "Edge 6252 -> 6309:\n",
            "l(t) = u + t * (v - u), where t ∈ [0, 1]\n",
            "u (start): [0. 0. 0. 0. 0.] ...\n",
            "v (end):   [0. 0. 0. 0. 0.] ...\n",
            "v - u:     [0. 0. 0. 0. 0.] ...\n",
            "\n",
            "Edge 6309 -> 6331:\n",
            "l(t) = u + t * (v - u), where t ∈ [0, 1]\n",
            "u (start): [0. 0. 0. 0. 0.] ...\n",
            "v (end):   [0. 0. 0. 0. 0.] ...\n",
            "v - u:     [0. 0. 0. 0. 0.] ...\n",
            "\n",
            "Edge 6331 -> 2295:\n",
            "l(t) = u + t * (v - u), where t ∈ [0, 1]\n",
            "u (start): [0. 0. 0. 0. 0.] ...\n",
            "v (end):   [0. 0. 0. 0. 0.] ...\n",
            "v - u:     [0. 0. 0. 0. 0.] ...\n",
            "\n",
            "Edge 2295 -> 6330:\n",
            "l(t) = u + t * (v - u), where t ∈ [0, 1]\n",
            "u (start): [0. 0. 0. 0. 0.] ...\n",
            "v (end):   [0. 0. 0. 0. 0.] ...\n",
            "v - u:     [0. 0. 0. 0. 0.] ...\n",
            "\n",
            "Edge 6330 -> 6339:\n",
            "l(t) = u + t * (v - u), where t ∈ [0, 1]\n",
            "u (start): [0. 0. 0. 0. 0.] ...\n",
            "v (end):   [0. 0. 0. 0. 0.] ...\n",
            "v - u:     [0. 0. 0. 0. 0.] ...\n"
          ]
        }
      ]
    },
    {
      "cell_type": "code",
      "source": [
        "import numpy as np\n",
        "\n",
        "# Step 1: Get the actual vectors for start and end\n",
        "vec_start = vectors_np[mapping[path[0]]]\n",
        "vec_end   = vectors_np[mapping[path[-1]]]\n",
        "\n",
        "# Step 2: Compute linear interpolated points at t = 0.05, 0.10, ..., 0.95\n",
        "ts = np.linspace(0.05, 0.95, 19)\n",
        "linear_interp_vectors = [(1 - t) * vec_start + t * vec_end for t in ts]\n",
        "\n",
        "# Step 3: Compute cumulative distances along the real graph path\n",
        "graph_vectors = [vectors_np[mapping[node]] for node in path]\n",
        "cum_dists = [0.0]\n",
        "for i in range(1, len(graph_vectors)):\n",
        "    dist = np.linalg.norm(graph_vectors[i] - graph_vectors[i-1])\n",
        "    cum_dists.append(cum_dists[-1] + dist)\n",
        "\n",
        "total_graph_distance = cum_dists[-1]\n",
        "total_linear_distance = np.linalg.norm(vec_end - vec_start)\n",
        "print(f\"Total real graph distance: {total_graph_distance:.4f}\")\n",
        "print(f\"Total linear distance:     {total_linear_distance:.4f}\")\n",
        "\n",
        "# Step 4: Get graph vectors at approximately matching 5% points\n",
        "graph_interp_vectors = []\n",
        "for target_frac in ts:\n",
        "    target_dist = target_frac * total_graph_distance\n",
        "    # Find the first segment that passes the target distance\n",
        "    for i in range(1, len(cum_dists)):\n",
        "        if cum_dists[i] >= target_dist:\n",
        "            graph_interp_vectors.append(graph_vectors[i])\n",
        "            break\n",
        "\n",
        "# Step 5: Compare each pair of vectors\n",
        "direction = vec_end - vec_start\n",
        "direction = direction / np.linalg.norm(direction)\n",
        "\n",
        "print(\"t\\tL2 deviation\\tcos(angle to direction)\")\n",
        "for t, lin_vec, graph_vec in zip(ts, linear_interp_vectors, graph_interp_vectors):\n",
        "    delta = graph_vec - lin_vec\n",
        "    l2 = np.linalg.norm(delta)\n",
        "    cos_angle = np.dot(delta, direction) / (np.linalg.norm(delta) + 1e-9)\n",
        "    print(f\"{t:.2f}\\t{l2:.4f}\\t\\t{cos_angle:.4f}\")\n",
        "\n"
      ],
      "metadata": {
        "colab": {
          "base_uri": "https://localhost:8080/"
        },
        "id": "ZHKd3JjNIPd5",
        "outputId": "6633ca0c-7b76-4111-949e-df84b6ccec19"
      },
      "execution_count": 12,
      "outputs": [
        {
          "output_type": "stream",
          "name": "stdout",
          "text": [
            "Total real graph distance: 158.5491\n",
            "Total linear distance:     10.7238\n",
            "t\tL2 deviation\tcos(angle to direction)\n",
            "0.05\t6.6248\t\t0.1161\n",
            "0.10\t7.9215\t\t0.0647\n",
            "0.15\t8.2394\t\t0.0198\n",
            "0.20\t8.5790\t\t0.0217\n",
            "0.25\t9.3374\t\t-0.0275\n",
            "0.30\t9.4419\t\t-0.0247\n",
            "0.35\t9.4439\t\t-0.0321\n",
            "0.40\t9.4763\t\t0.0098\n",
            "0.45\t9.1317\t\t-0.0077\n",
            "0.50\t9.3140\t\t-0.0551\n",
            "0.55\t9.0104\t\t-0.0750\n",
            "0.60\t8.8204\t\t-0.1163\n",
            "0.65\t8.9212\t\t-0.1542\n",
            "0.70\t8.3756\t\t-0.1392\n",
            "0.75\t7.9804\t\t-0.2132\n",
            "0.80\t7.4699\t\t-0.1748\n",
            "0.85\t6.9848\t\t-0.2503\n",
            "0.90\t6.4459\t\t-0.3110\n",
            "0.95\t4.4707\t\t-0.1512\n"
          ]
        }
      ]
    },
    {
      "cell_type": "code",
      "source": [
        "import numpy as np\n",
        "import matplotlib.pyplot as plt\n",
        "from sklearn.decomposition import PCA\n",
        "import umap\n",
        "\n",
        "# Assume you already have:\n",
        "# - graph_interp_vectors (list of graph path vectors)\n",
        "# - linear_interp_vectors (list of linearly interpolated vectors)\n",
        "\n",
        "# Stack them together for joint projection\n",
        "all_vectors = np.stack(graph_interp_vectors + linear_interp_vectors)  # shape (2N, 784)\n",
        "\n",
        "# ---------- PCA ----------\n",
        "pca = PCA(n_components=2)\n",
        "all_pca = pca.fit_transform(all_vectors)\n",
        "graph_pca = all_pca[:len(graph_interp_vectors)]\n",
        "linear_pca = all_pca[len(graph_interp_vectors):]\n",
        "\n",
        "# ---------- UMAP ----------\n",
        "reducer = umap.UMAP(n_components=2, random_state=42)\n",
        "all_umap = reducer.fit_transform(all_vectors)\n",
        "graph_umap = all_umap[:len(graph_interp_vectors)]\n",
        "linear_umap = all_umap[len(graph_interp_vectors):]\n",
        "\n",
        "# ---------- Plotting ----------\n",
        "fig, axs = plt.subplots(1, 2, figsize=(12, 5))\n",
        "\n",
        "# ----- PCA Plot -----\n",
        "axs[0].plot(graph_pca[:, 0], graph_pca[:, 1], '-o', label='Graph Path', color='blue')\n",
        "axs[0].plot(linear_pca[:, 0], linear_pca[:, 1], '-o', label='Linear Path', color='red')\n",
        "axs[0].set_title(\"PCA Projection\")\n",
        "axs[0].set_xlabel(\"PC 1\")\n",
        "axs[0].set_ylabel(\"PC 2\")\n",
        "axs[0].axis('equal')\n",
        "axs[0].legend()\n",
        "\n",
        "# ----- UMAP Plot -----\n",
        "axs[1].plot(graph_umap[:, 0], graph_umap[:, 1], '-o', label='Graph Path', color='blue')\n",
        "axs[1].plot(linear_umap[:, 0], linear_umap[:, 1], '-o', label='Linear Path', color='red')\n",
        "axs[1].set_title(\"UMAP Projection\")\n",
        "axs[1].set_xlabel(\"UMAP 1\")\n",
        "axs[1].set_ylabel(\"UMAP 2\")\n",
        "axs[1].axis('equal')\n",
        "axs[1].legend()\n",
        "\n",
        "plt.suptitle(\"Graph vs Linear Interpolation Path (PCA and UMAP)\")\n",
        "plt.tight_layout()\n",
        "plt.show()\n"
      ],
      "metadata": {
        "colab": {
          "base_uri": "https://localhost:8080/",
          "height": 583
        },
        "id": "9sTVQnyIIxa5",
        "outputId": "eb53b645-73bd-43f2-fbeb-81d846e1da72"
      },
      "execution_count": 17,
      "outputs": [
        {
          "output_type": "stream",
          "name": "stderr",
          "text": [
            "/usr/local/lib/python3.11/dist-packages/sklearn/utils/deprecation.py:151: FutureWarning: 'force_all_finite' was renamed to 'ensure_all_finite' in 1.6 and will be removed in 1.8.\n",
            "  warnings.warn(\n",
            "/usr/local/lib/python3.11/dist-packages/umap/umap_.py:1952: UserWarning: n_jobs value 1 overridden to 1 by setting random_state. Use no seed for parallelism.\n",
            "  warn(\n"
          ]
        },
        {
          "output_type": "display_data",
          "data": {
            "text/plain": [
              "<Figure size 1200x500 with 2 Axes>"
            ],
            "image/png": "[encoded data removed]"
          },
          "metadata": {}
        }
      ]
    },
    {
      "cell_type": "code",
      "source": [
        "linear_np = np.stack(linear_interp_vectors)\n",
        "reducer = umap.UMAP(n_neighbors=5, random_state=42)\n",
        "linear_umap_alone = reducer.fit_transform(linear_np)\n",
        "\n",
        "plt.plot(linear_umap_alone[:, 0], linear_umap_alone[:, 1], '-o', color='red')\n",
        "plt.title(\"Linear Path Alone in UMAP\")\n",
        "plt.xlabel(\"UMAP 1\")\n",
        "plt.ylabel(\"UMAP 2\")\n",
        "plt.axis('equal')\n",
        "plt.show()\n"
      ],
      "metadata": {
        "colab": {
          "base_uri": "https://localhost:8080/",
          "height": 543
        },
        "id": "xpvBbZVHSXpy",
        "outputId": "da699da2-725a-46a1-9d2c-12b01e94f69f"
      },
      "execution_count": 18,
      "outputs": [
        {
          "output_type": "stream",
          "name": "stderr",
          "text": [
            "/usr/local/lib/python3.11/dist-packages/sklearn/utils/deprecation.py:151: FutureWarning: 'force_all_finite' was renamed to 'ensure_all_finite' in 1.6 and will be removed in 1.8.\n",
            "  warnings.warn(\n",
            "/usr/local/lib/python3.11/dist-packages/umap/umap_.py:1952: UserWarning: n_jobs value 1 overridden to 1 by setting random_state. Use no seed for parallelism.\n",
            "  warn(\n"
          ]
        },
        {
          "output_type": "display_data",
          "data": {
            "text/plain": [
              "<Figure size 640x480 with 1 Axes>"
            ],
            "image/png": "[encoded data removed]"
          },
          "metadata": {}
        }
      ]
    },
    {
      "cell_type": "code",
      "source": [
        "import numpy as np\n",
        "\n",
        "direction = vec_end - vec_start\n",
        "unit_direction = direction / np.linalg.norm(direction)\n",
        "\n",
        "print(f\"{'t':<6}{'Along (scalar)':<20}{'Deviation (L2)':<20}\")\n",
        "print(\"-\" * 50)\n",
        "\n",
        "for t, graph_vec in zip(ts, graph_interp_vectors):\n",
        "    # Step 1: vector from start to this graph point\n",
        "    vector_to_point = graph_vec - vec_start\n",
        "\n",
        "    # Step 2: how far along the line is this point?\n",
        "    parallel_scalar = np.dot(vector_to_point, unit_direction)\n",
        "\n",
        "    # Step 3: reconstruct the \"shadow\" on the line - where does the graph node fall on the line\n",
        "    projection_point = vec_start + parallel_scalar * unit_direction\n",
        "\n",
        "    # Step 4: measure the sideways offset (how far off the line)\n",
        "    deviation_vector = graph_vec - projection_point\n",
        "    deviation_distance = np.linalg.norm(deviation_vector)\n",
        "\n",
        "    print(f\"{t:<6.2f}{parallel_scalar:<20.4f}{deviation_distance:<20.4f}\")\n"
      ],
      "metadata": {
        "colab": {
          "base_uri": "https://localhost:8080/"
        },
        "id": "HsSZJbVlFF-P",
        "outputId": "e9a386f0-d552-42e2-e5b4-a09f0fc92afe"
      },
      "execution_count": 13,
      "outputs": [
        {
          "output_type": "stream",
          "name": "stdout",
          "text": [
            "t     Along (scalar)      Deviation (L2)      \n",
            "--------------------------------------------------\n",
            "0.05  1.3055              6.5799              \n",
            "0.10  1.5853              7.9049              \n",
            "0.15  1.7718              8.2378              \n",
            "0.20  2.3313              8.5770              \n",
            "0.25  2.4245              9.3339              \n",
            "0.30  2.9840              9.4390              \n",
            "0.35  3.4503              9.4390              \n",
            "0.40  4.3828              9.4758              \n",
            "0.45  4.7558              9.1314              \n",
            "0.50  4.8490              9.2998              \n",
            "0.55  5.2220              8.9850              \n",
            "0.60  5.4085              8.7606              \n",
            "0.65  5.5950              8.8145              \n",
            "0.70  6.3410              8.2941              \n",
            "0.75  6.3410              7.7969              \n",
            "0.80  7.2735              7.3550              \n",
            "0.85  7.3668              6.7624              \n",
            "0.90  7.6465              6.1262              \n",
            "0.95  9.5115              4.4193              \n"
          ]
        }
      ]
    },
    {
      "cell_type": "code",
      "source": [
        "import numpy as np\n",
        "\n",
        "# Step 1: Compute normalized direction vectors between points\n",
        "directions = []\n",
        "for i in range(len(graph_interp_vectors) - 1):\n",
        "    diff = graph_interp_vectors[i+1] - graph_interp_vectors[i]\n",
        "    norm = np.linalg.norm(diff)\n",
        "    directions.append(diff / norm if norm > 0 else diff)\n",
        "\n",
        "# Step 2: Compute angle between consecutive directions\n",
        "angles = []\n",
        "for i in range(len(directions) - 1):\n",
        "    dot = np.dot(directions[i], directions[i+1])\n",
        "    dot = np.clip(dot, -1.0, 1.0)  # to avoid numerical issues\n",
        "    angle = np.arccos(dot)  # in radians\n",
        "    angles.append(np.degrees(angle))  # convert to degrees for readability\n",
        "\n",
        "# Step 3: Print the results\n",
        "print(f\"{'Segment':<10}{'Turning angle (deg)':<20}\")\n",
        "print(\"-\" * 30)\n",
        "for i, angle in enumerate(angles):\n",
        "    print(f\"{i:<10}{angle:<20.2f}\")\n"
      ],
      "metadata": {
        "colab": {
          "base_uri": "https://localhost:8080/"
        },
        "id": "Qo7wEUdjHL9u",
        "outputId": "282f782f-7487-4538-c773-9ca85855fb38"
      },
      "execution_count": 14,
      "outputs": [
        {
          "output_type": "stream",
          "name": "stdout",
          "text": [
            "Segment   Turning angle (deg) \n",
            "------------------------------\n",
            "0         104.48              \n",
            "1         109.11              \n",
            "2         116.05              \n",
            "3         102.79              \n",
            "4         96.40               \n",
            "5         96.04               \n",
            "6         98.36               \n",
            "7         114.22              \n",
            "8         90.00               \n",
            "9         104.53              \n",
            "10        99.86               \n",
            "11        95.90               \n",
            "12        93.61               \n",
            "13        93.13               \n",
            "14        97.68               \n",
            "15        99.86               \n",
            "16        107.11              \n"
          ]
        }
      ]
    }
  ]
}