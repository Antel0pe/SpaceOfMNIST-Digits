{
  "nbformat": 4,
  "nbformat_minor": 0,
  "metadata": {
    "colab": {
      "provenance": []
    },
    "kernelspec": {
      "name": "python3",
      "display_name": "Python 3"
    },
    "language_info": {
      "name": "python"
    }
  },
  "cells": [
    {
      "cell_type": "code",
      "execution_count": 98,
      "metadata": {
        "id": "kjEqvyBEsAUK"
      },
      "outputs": [],
      "source": [
        "import numpy as np\n",
        "\n",
        "data = np.random.rand(100, 25)"
      ]
    },
    {
      "cell_type": "code",
      "source": [
        "kNeighbors = 5"
      ],
      "metadata": {
        "id": "mKIkeJY21oHO"
      },
      "execution_count": 99,
      "outputs": []
    },
    {
      "cell_type": "code",
      "source": [
        "from sklearn.neighbors import NearestNeighbors\n",
        "\n",
        "knn = NearestNeighbors(n_neighbors=kNeighbors+1, algorithm='auto').fit(data)\n",
        "\n",
        "distances, indices = knn.kneighbors(data, n_neighbors=kNeighbors+1, return_distance=True)"
      ],
      "metadata": {
        "id": "Ktb4jsh6s1Pr"
      },
      "execution_count": 100,
      "outputs": []
    },
    {
      "cell_type": "code",
      "source": [
        "neighborDistances, neighborIndices = distances[:, 1:], indices[:, 1:]\n",
        "closestNeighborDistance, closestNeighborIndex = neighborDistances[:, 0], neighborIndices[:, 0]"
      ],
      "metadata": {
        "id": "rXdFNGKpwAoz"
      },
      "execution_count": 101,
      "outputs": []
    },
    {
      "cell_type": "code",
      "source": [
        "targetSigma = np.log(kNeighbors)"
      ],
      "metadata": {
        "id": "AZ2xZpQk2KLo"
      },
      "execution_count": 102,
      "outputs": []
    },
    {
      "cell_type": "code",
      "source": [
        "def binarySearchSigma(neighborDistances, closestNeighborDistance, targetSigma, lowerBoundSigma = 1e-5, upperBoundSigma = 1000, tolerance = 1e-5, maxIters=64):\n",
        "    sigma = np.full((neighborDistances.shape[0], 1), (lowerBoundSigma + upperBoundSigma)/2)\n",
        "\n",
        "    for idx,(distances,closestDistance) in enumerate(zip(neighborDistances, closestNeighborDistance)):\n",
        "        lower = lowerBoundSigma\n",
        "        upper = upperBoundSigma\n",
        "        iters = 0\n",
        "\n",
        "        while iters < maxIters:\n",
        "            result = computeFuzzyProbability(distances, closestDistance, sigma[idx]).sum()\n",
        "\n",
        "            if np.abs(result - targetSigma) < tolerance:\n",
        "                break\n",
        "            elif result < targetSigma:\n",
        "                upper = sigma[idx]\n",
        "                sigma[idx] = (lower + sigma[idx])/2\n",
        "            else:\n",
        "                lower = sigma[idx]\n",
        "                sigma[idx] = (sigma[idx] + upper)/2\n",
        "\n",
        "            iters += 1\n",
        "\n",
        "    return sigma\n",
        "\n",
        "def computeFuzzyProbability(distances, closestDistance, sigma):\n",
        "    return np.exp(-((distances - closestDistance)/sigma))\n",
        "\n",
        "def computeDirectedFuzzyGraph(neighborDistances, closestNeighborDistance, sigma):\n",
        "    fuzzyProbabilities = computeFuzzyProbability(neighborDistances, closestNeighborDistance, sigma)\n",
        "    return fuzzyProbabilities\n"
      ],
      "metadata": {
        "id": "qFoOoqMs_FBY"
      },
      "execution_count": 103,
      "outputs": []
    },
    {
      "cell_type": "code",
      "source": [
        "from scipy.sparse import coo_matrix\n",
        "\n",
        "def symmetricFuzzyGraph(fuzzyProbabilities, neighborIndices, kNeighbors):\n",
        "    n_samples = fuzzyProbabilities.shape[0]\n",
        "\n",
        "    rows = np.repeat(np.arange(n_samples), kNeighbors)\n",
        "    cols = neighborIndices.flatten()\n",
        "    data = fuzzyProbabilities.flatten()\n",
        "\n",
        "    P_ji = coo_matrix((data, (rows, cols)), shape=(n_samples, n_samples))\n",
        "\n",
        "    P = 1 - (1 - P_ji).multiply(1 - P_ji.T)\n",
        "\n"
      ],
      "metadata": {
        "id": "89BlCzEHP4IU"
      },
      "execution_count": 104,
      "outputs": []
    },
    {
      "cell_type": "code",
      "source": [
        "import numpy as np\n",
        "\n",
        "initialPoints = np.random.normal(loc=0, scale=0.0001, size=(data.shape[0], 2))\n"
      ],
      "metadata": {
        "id": "9b9MrZuiQubo"
      },
      "execution_count": 105,
      "outputs": []
    },
    {
      "cell_type": "code",
      "source": [
        "def lowDimensionEmbeddingProbabilities(points, a=1.929, b=0.7915):\n",
        "    d = np.linalg.norm(points[:, 0] - points[:, 1], axis=1)\n",
        "    qij = 1/(1 + a * d**(2*b))\n",
        "    return qij"
      ],
      "metadata": {
        "id": "dVna-wq-zbuG"
      },
      "execution_count": 106,
      "outputs": []
    },
    {
      "cell_type": "code",
      "source": [
        "def umap_loss(positive_pairs, negative_pairs, embedding_positions, gamma, a=1.929, b=0.7915):\n",
        "    positiveValues = embedding_positions[positive_pairs]\n",
        "    negativeValues = embedding_positions[negative_pairs]\n",
        "\n",
        "    firstTerm = -np.log(lowDimensionEmbeddingProbabilities(positiveValues)).sum()\n",
        "    secondTerm = -gamma * np.log(lowDimensionEmbeddingProbabilities(negativeValues)).sum()\n",
        "    return firstTerm + secondTerm"
      ],
      "metadata": {
        "id": "_7SokFf85_ey"
      },
      "execution_count": null,
      "outputs": []
    }
  ]
}