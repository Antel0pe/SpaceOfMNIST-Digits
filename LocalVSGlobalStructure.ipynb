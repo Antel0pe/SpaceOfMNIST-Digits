{
  "nbformat": 4,
  "nbformat_minor": 0,
  "metadata": {
    "colab": {
      "provenance": []
    },
    "kernelspec": {
      "name": "python3",
      "display_name": "Python 3"
    },
    "language_info": {
      "name": "python"
    }
  },
  "cells": [
    {
      "cell_type": "code",
      "execution_count": 1,
      "metadata": {
        "colab": {
          "base_uri": "https://localhost:8080/"
        },
        "id": "ejR2tWz1a1Fh",
        "outputId": "cac8ba17-648e-4376-c52a-399116edac95"
      },
      "outputs": [
        {
          "output_type": "stream",
          "name": "stdout",
          "text": [
            "\u001b[?25l   \u001b[90m━━━━━━━━━━━━━━━━━━━━━━━━━━━━━━━━━━━━━━━━\u001b[0m \u001b[32m0.0/3.1 MB\u001b[0m \u001b[31m?\u001b[0m eta \u001b[36m-:--:--\u001b[0m\r\u001b[2K   \u001b[91m━━━━━━━━━━━━━━━━━━━\u001b[0m\u001b[91m╸\u001b[0m\u001b[90m━━━━━━━━━━━━━━━━━━━━\u001b[0m \u001b[32m1.6/3.1 MB\u001b[0m \u001b[31m42.1 MB/s\u001b[0m eta \u001b[36m0:00:01\u001b[0m\r\u001b[2K   \u001b[91m━━━━━━━━━━━━━━━━━━━━━━━━━━━━━━━━━━━━━━━\u001b[0m\u001b[91m╸\u001b[0m \u001b[32m3.1/3.1 MB\u001b[0m \u001b[31m45.9 MB/s\u001b[0m eta \u001b[36m0:00:01\u001b[0m\r\u001b[2K   \u001b[91m━━━━━━━━━━━━━━━━━━━━━━━━━━━━━━━━━━━━━━━\u001b[0m\u001b[91m╸\u001b[0m \u001b[32m3.1/3.1 MB\u001b[0m \u001b[31m45.9 MB/s\u001b[0m eta \u001b[36m0:00:01\u001b[0m\r\u001b[2K   \u001b[90m━━━━━━━━━━━━━━━━━━━━━━━━━━━━━━━━━━━━━━━━\u001b[0m \u001b[32m3.1/3.1 MB\u001b[0m \u001b[31m24.7 MB/s\u001b[0m eta \u001b[36m0:00:00\u001b[0m\n",
            "\u001b[?25h"
          ]
        }
      ],
      "source": [
        "!pip install -q python-igraph scikit-learn"
      ]
    },
    {
      "cell_type": "code",
      "source": [
        "import torch\n",
        "from torch.utils.data import Subset\n",
        "import torchvision\n",
        "from torchvision import transforms\n",
        "import matplotlib.pyplot as plt\n",
        "\n",
        "# Define the transformation pipeline:\n",
        "transform = transforms.Compose([\n",
        "    transforms.ToTensor(),\n",
        "    transforms.Lambda(lambda x: (x > 0.5).float()),  # Binarize the image\n",
        "    transforms.Lambda(lambda x: x.view(-1))           # Flatten into a 784-dim vector\n",
        "])\n",
        "\n",
        "# Load the training set (set download=True if running for the first time)\n",
        "mnist_train = torchvision.datasets.MNIST(root='./data', train=True, download=True, transform=transform)\n",
        "\n",
        "# Get indices for images where the label is 1\n",
        "indices = (mnist_train.targets == 1).nonzero().squeeze()\n",
        "\n",
        "# Create a subset containing only the '1's\n",
        "mnist_train_ones = Subset(mnist_train, indices)\n",
        "\n",
        "print(f\"Total number of '1' images in the training set: {len(mnist_train_ones)}\")\n",
        "\n",
        "# Stack all 784-dim vectors from the filtered dataset\n",
        "all_vectors = torch.stack([img for img, _ in mnist_train_ones])\n",
        "unique_vectors = torch.unique(all_vectors, dim=0)\n",
        "\n",
        "print(f\"Total images in mnist_train_ones: {all_vectors.shape[0]}\")\n",
        "print(f\"Unique images: {unique_vectors.shape[0]}\")\n",
        "\n",
        "if all_vectors.shape[0] == unique_vectors.shape[0]:\n",
        "    print(\"All 784-dimensional vectors are unique.\")\n",
        "else:\n",
        "    print(\"There are duplicates in the 784-dimensional vectors.\")\n",
        "\n"
      ],
      "metadata": {
        "colab": {
          "base_uri": "https://localhost:8080/"
        },
        "id": "Wamm-YQpa4bm",
        "outputId": "99a4ad0d-3b5e-4929-84da-63fa00bb2ab8"
      },
      "execution_count": 2,
      "outputs": [
        {
          "output_type": "stream",
          "name": "stderr",
          "text": [
            "100%|██████████| 9.91M/9.91M [00:00<00:00, 15.9MB/s]\n",
            "100%|██████████| 28.9k/28.9k [00:00<00:00, 490kB/s]\n",
            "100%|██████████| 1.65M/1.65M [00:00<00:00, 4.43MB/s]\n",
            "100%|██████████| 4.54k/4.54k [00:00<00:00, 3.90MB/s]\n"
          ]
        },
        {
          "output_type": "stream",
          "name": "stdout",
          "text": [
            "Total number of '1' images in the training set: 6742\n",
            "Total images in mnist_train_ones: 6742\n",
            "Unique images: 6726\n",
            "There are duplicates in the 784-dimensional vectors.\n"
          ]
        }
      ]
    },
    {
      "cell_type": "code",
      "source": [
        "import numpy as np\n",
        "from sklearn.neighbors import NearestNeighbors\n",
        "import igraph as ig\n",
        "\n",
        "def visualize_k_nearest_neighbors_graph(unique_vectors, k):\n",
        "    \"\"\"\n",
        "    Builds an unweighted graph with python-igraph where each unique vector is a node.\n",
        "    Each node is connected to its k nearest neighbors (excluding itself).\n",
        "\n",
        "    Args:\n",
        "        unique_vectors (torch.Tensor or np.array): Array/tensor of shape (n, d) containing feature vectors.\n",
        "        k (int): Number of nearest neighbors for each node.\n",
        "\n",
        "    Returns:\n",
        "        g (igraph.Graph): The constructed unweighted graph.\n",
        "    \"\"\"\n",
        "    # Convert tensor to numpy array if necessary.\n",
        "    if hasattr(unique_vectors, 'numpy'):\n",
        "        X = unique_vectors.numpy()\n",
        "    else:\n",
        "        X = unique_vectors\n",
        "\n",
        "    n = X.shape[0]\n",
        "    print(f\"Building unweighted k-NN graph for {n} nodes...\")\n",
        "\n",
        "    # Find k nearest neighbors for each node. Note: The first neighbor is the point itself.\n",
        "    nbrs = NearestNeighbors(n_neighbors=k+1, algorithm='auto').fit(X)\n",
        "    distances, indices = nbrs.kneighbors(X)\n",
        "\n",
        "    edge_list = []\n",
        "    for i, neigh in enumerate(indices):\n",
        "        # Skip the first neighbor (self) and add undirected edges only once.\n",
        "        for j in neigh[1:]:\n",
        "            if i < j:\n",
        "                edge_list.append((i, j))\n",
        "\n",
        "    # Create an undirected graph.\n",
        "    g = ig.Graph(n=n, edges=edge_list, directed=False)\n",
        "    print(f\"Unweighted k-NN graph built with {len(edge_list)} edges.\")\n",
        "    return g\n",
        "\n",
        "g = visualize_k_nearest_neighbors_graph(unique_vectors, 5)\n"
      ],
      "metadata": {
        "colab": {
          "base_uri": "https://localhost:8080/"
        },
        "id": "fAb05Ahta5yw",
        "outputId": "75e07395-a699-4752-cb22-1517917513a3"
      },
      "execution_count": 3,
      "outputs": [
        {
          "output_type": "stream",
          "name": "stdout",
          "text": [
            "Building unweighted k-NN graph for 6726 nodes...\n",
            "Unweighted k-NN graph built with 15285 edges.\n"
          ]
        }
      ]
    },
    {
      "cell_type": "code",
      "source": [
        "# prompt: print 5 biggest connected components in g and how many nodes and edges are in each\n",
        "\n",
        "# Find connected components\n",
        "clusters = g.clusters()\n",
        "\n",
        "# Sort clusters by size in descending order and get the 5 largest\n",
        "largest_clusters = sorted(clusters, key=len, reverse=True)[:5]\n",
        "\n",
        "# Print information about the 5 largest connected components\n",
        "for i, cluster in enumerate(largest_clusters):\n",
        "    subgraph = g.subgraph(cluster)\n",
        "    print(f\"Connected Component {i+1}:\")\n",
        "    print(f\"  Number of nodes: {subgraph.vcount()}\")\n",
        "    print(f\"  Number of edges: {subgraph.ecount()}\")\n"
      ],
      "metadata": {
        "colab": {
          "base_uri": "https://localhost:8080/"
        },
        "id": "yYCA6pSYcgEK",
        "outputId": "a32e9af8-50d5-4ac9-aedd-a15ef4ed444c"
      },
      "execution_count": 5,
      "outputs": [
        {
          "output_type": "stream",
          "name": "stdout",
          "text": [
            "Connected Component 1:\n",
            "  Number of nodes: 6478\n",
            "  Number of edges: 15254\n",
            "Connected Component 2:\n",
            "  Number of nodes: 4\n",
            "  Number of edges: 3\n",
            "Connected Component 3:\n",
            "  Number of nodes: 3\n",
            "  Number of edges: 2\n",
            "Connected Component 4:\n",
            "  Number of nodes: 3\n",
            "  Number of edges: 2\n",
            "Connected Component 5:\n",
            "  Number of nodes: 3\n",
            "  Number of edges: 2\n"
          ]
        },
        {
          "output_type": "stream",
          "name": "stderr",
          "text": [
            "<ipython-input-5-c1d80609f63a>:4: DeprecationWarning: Graph.clusters() is deprecated; use Graph.connected_components() instead\n",
            "  clusters = g.clusters()\n"
          ]
        }
      ]
    },
    {
      "cell_type": "code",
      "source": [
        "# prompt: Compute average edge length per node.\n",
        "# Histogram that — you'll see dense vs sparse easily.\n",
        "\n",
        "import matplotlib.pyplot as plt\n",
        "import numpy as np\n",
        "# Compute average edge length per node\n",
        "avg_degree = g.degree()\n",
        "print(f\"Average degree: {np.mean(avg_degree)}\")\n",
        "\n",
        "# Calculate edge lengths (distances between nodes)\n",
        "edge_lengths = []\n",
        "for edge in g.es:\n",
        "    source_node = edge.source\n",
        "    target_node = edge.target\n",
        "    distance = np.linalg.norm(unique_vectors[source_node] - unique_vectors[target_node])\n",
        "    edge_lengths.append(distance)\n",
        "\n",
        "# Compute average edge length per node\n",
        "avg_edge_length_per_node = []\n",
        "for node_index in range(g.vcount()):\n",
        "  neighbor_indices = g.neighbors(node_index)\n",
        "  edge_lengths_for_node = []\n",
        "  for neighbor in neighbor_indices:\n",
        "      # Find the edge connecting current node to its neighbor\n",
        "      edge = g.get_eid(node_index, neighbor)\n",
        "      edge_lengths_for_node.append(edge_lengths[edge])\n",
        "\n",
        "  if edge_lengths_for_node:\n",
        "    avg_edge_length_per_node.append(np.mean(edge_lengths_for_node))\n",
        "  else:\n",
        "    avg_edge_length_per_node.append(0)\n",
        "\n",
        "\n",
        "# Plotting the histogram of average edge lengths\n",
        "plt.hist(avg_edge_length_per_node, bins=20)  # Adjust bins as needed\n",
        "plt.xlabel(\"Average Edge Length per Node\")\n",
        "plt.ylabel(\"Number of Nodes\")\n",
        "plt.title(\"Histogram of Average Edge Lengths\")\n",
        "plt.show()\n"
      ],
      "metadata": {
        "colab": {
          "base_uri": "https://localhost:8080/",
          "height": 490
        },
        "id": "gnpndT2Ncs6N",
        "outputId": "0d4f3ab9-7234-42bd-cc95-40778b5fe78a"
      },
      "execution_count": 6,
      "outputs": [
        {
          "output_type": "stream",
          "name": "stdout",
          "text": [
            "Average degree: 4.5450490633363065\n"
          ]
        },
        {
          "output_type": "display_data",
          "data": {
            "text/plain": [
              "<Figure size 640x480 with 1 Axes>"
            ],
            "image/png": "[encoded data removed]"
          },
          "metadata": {}
        }
      ]
    }
  ]
}